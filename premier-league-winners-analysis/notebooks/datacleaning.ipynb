{
 "cells": [
  {
   "cell_type": "markdown",
   "id": "39570641",
   "metadata": {},
   "source": [
    "# ⚽ Premier League Dataset – Data Cleaning\n",
    "\n",
    "This notebook focuses on cleaning and preparing the Premier League dataset for analysis and storytelling. The dataset includes match-level data from the 1993–94 season to the present.\n",
    "\n",
    "**Goals:**\n",
    "- Handle missing values\n",
    "- Standardize column names and formats\n",
    "- Ensure data types are correct\n",
    "- Create features for future analysis (e.g., match result, goal difference)\n",
    "\n",
    "📁 Data Source: [Kaggle - Premier League](https://www.kaggle.com/datasets/ajaxianazarenka/premier-league)  \n",
    "📄 License: MIT – credit to [IvanRamosDataTech](https://www.kaggle.com/ivanramosdatatech)"
   ]
  },
  {
   "cell_type": "code",
   "execution_count": 32,
   "id": "9d4cd96c",
   "metadata": {},
   "outputs": [],
   "source": [
    "import pandas as pd"
   ]
  },
  {
   "cell_type": "code",
   "execution_count": 43,
   "id": "db987065",
   "metadata": {},
   "outputs": [
    {
     "data": {
      "text/html": [
       "<div>\n",
       "<style scoped>\n",
       "    .dataframe tbody tr th:only-of-type {\n",
       "        vertical-align: middle;\n",
       "    }\n",
       "\n",
       "    .dataframe tbody tr th {\n",
       "        vertical-align: top;\n",
       "    }\n",
       "\n",
       "    .dataframe thead th {\n",
       "        text-align: right;\n",
       "    }\n",
       "</style>\n",
       "<table border=\"1\" class=\"dataframe\">\n",
       "  <thead>\n",
       "    <tr style=\"text-align: right;\">\n",
       "      <th></th>\n",
       "      <th>MatchID</th>\n",
       "      <th>Season</th>\n",
       "      <th>MatchWeek</th>\n",
       "      <th>Date</th>\n",
       "      <th>Time</th>\n",
       "      <th>HomeTeam</th>\n",
       "      <th>AwayTeam</th>\n",
       "      <th>FullTimeHomeTeamGoals</th>\n",
       "      <th>FullTimeAwayTeamGoals</th>\n",
       "      <th>FullTimeResult</th>\n",
       "      <th>...</th>\n",
       "      <th>MarketMaxAwayTeam</th>\n",
       "      <th>MarketAvgHomeTeam</th>\n",
       "      <th>MarketAvgDraw</th>\n",
       "      <th>MarketAvgAwayTeam</th>\n",
       "      <th>MarketMaxOver2.5Goals</th>\n",
       "      <th>MarketMaxUnder2.5Goals</th>\n",
       "      <th>MarketAvgOver2.5Goals</th>\n",
       "      <th>MarketAvgUnder2.5Goals</th>\n",
       "      <th>HomeTeamPoints</th>\n",
       "      <th>AwayTeamPoints</th>\n",
       "    </tr>\n",
       "  </thead>\n",
       "  <tbody>\n",
       "    <tr>\n",
       "      <th>0</th>\n",
       "      <td>1993-1994_Arsenal_Coventry</td>\n",
       "      <td>1993-1994</td>\n",
       "      <td>1</td>\n",
       "      <td>1993-08-14</td>\n",
       "      <td>NaN</td>\n",
       "      <td>Arsenal</td>\n",
       "      <td>Coventry</td>\n",
       "      <td>0</td>\n",
       "      <td>3</td>\n",
       "      <td>A</td>\n",
       "      <td>...</td>\n",
       "      <td>NaN</td>\n",
       "      <td>NaN</td>\n",
       "      <td>NaN</td>\n",
       "      <td>NaN</td>\n",
       "      <td>NaN</td>\n",
       "      <td>NaN</td>\n",
       "      <td>NaN</td>\n",
       "      <td>NaN</td>\n",
       "      <td>0</td>\n",
       "      <td>3</td>\n",
       "    </tr>\n",
       "  </tbody>\n",
       "</table>\n",
       "<p>1 rows × 43 columns</p>\n",
       "</div>"
      ],
      "text/plain": [
       "                      MatchID     Season  MatchWeek        Date Time HomeTeam  \\\n",
       "0  1993-1994_Arsenal_Coventry  1993-1994          1  1993-08-14  NaN  Arsenal   \n",
       "\n",
       "   AwayTeam  FullTimeHomeTeamGoals  FullTimeAwayTeamGoals FullTimeResult  ...  \\\n",
       "0  Coventry                      0                      3              A  ...   \n",
       "\n",
       "   MarketMaxAwayTeam  MarketAvgHomeTeam MarketAvgDraw MarketAvgAwayTeam  \\\n",
       "0                NaN                NaN           NaN               NaN   \n",
       "\n",
       "   MarketMaxOver2.5Goals  MarketMaxUnder2.5Goals  MarketAvgOver2.5Goals  \\\n",
       "0                    NaN                     NaN                    NaN   \n",
       "\n",
       "   MarketAvgUnder2.5Goals  HomeTeamPoints  AwayTeamPoints  \n",
       "0                     NaN               0               3  \n",
       "\n",
       "[1 rows x 43 columns]"
      ]
     },
     "execution_count": 43,
     "metadata": {},
     "output_type": "execute_result"
    }
   ],
   "source": [
    "prem = pd.read_csv('../data/raw/PremierLeague.csv')\n",
    "prem.head(1)"
   ]
  },
  {
   "cell_type": "markdown",
   "id": "6018c57c",
   "metadata": {},
   "source": [
    "## Seperating the 'Date' column\n",
    "The dataset included a single column for date. To be able to conduct a more in-depth analysis I broke down the date column into three ['year', 'month', 'day']"
   ]
  },
  {
   "cell_type": "code",
   "execution_count": 39,
   "id": "a259e42e",
   "metadata": {},
   "outputs": [],
   "source": [
    "prem['Date'] = pd.to_datetime(prem['Date'])\n",
    "prem1 = prem"
   ]
  },
  {
   "cell_type": "code",
   "execution_count": 40,
   "id": "3a3ee0bd",
   "metadata": {},
   "outputs": [],
   "source": [
    "prem1['year'] = prem1['Date'].dt.year\n",
    "prem1['month'] = prem1['Date'].dt.month\n",
    "prem1['day'] = prem1['Date'].dt.day"
   ]
  },
  {
   "cell_type": "markdown",
   "id": "a6235905",
   "metadata": {},
   "source": [
    "## 🧹 Dropping Unused Betting Odds Columns\n",
    "\n",
    "The dataset includes various betting odds columns (from Bet365 and market averages). For this analysis, we’ll drop these columns to simplify the dataset."
   ]
  },
  {
   "cell_type": "code",
   "execution_count": 41,
   "id": "64f92edf",
   "metadata": {},
   "outputs": [],
   "source": [
    "odds_columns = [\n",
    "    'B365HomeTeam', 'B365Draw', 'B365AwayTeam', 'B365Over2.5Goals', 'B365Under2.5Goals',\n",
    "    'MarketMaxHomeTeam', 'MarketMaxDraw', 'MarketMaxAwayTeam',\n",
    "    'MarketAvgHomeTeam', 'MarketAvgDraw', 'MarketAvgAwayTeam',\n",
    "    'MarketMaxOver2.5Goals', 'MarketMaxUnder2.5Goals',\n",
    "    'MarketAvgOver2.5Goals', 'MarketAvgUnder2.5Goals'\n",
    "]"
   ]
  },
  {
   "cell_type": "code",
   "execution_count": 42,
   "id": "9b73c805",
   "metadata": {},
   "outputs": [
    {
     "data": {
      "text/html": [
       "<div>\n",
       "<style scoped>\n",
       "    .dataframe tbody tr th:only-of-type {\n",
       "        vertical-align: middle;\n",
       "    }\n",
       "\n",
       "    .dataframe tbody tr th {\n",
       "        vertical-align: top;\n",
       "    }\n",
       "\n",
       "    .dataframe thead th {\n",
       "        text-align: right;\n",
       "    }\n",
       "</style>\n",
       "<table border=\"1\" class=\"dataframe\">\n",
       "  <thead>\n",
       "    <tr style=\"text-align: right;\">\n",
       "      <th></th>\n",
       "      <th>MatchID</th>\n",
       "      <th>Season</th>\n",
       "      <th>MatchWeek</th>\n",
       "      <th>Date</th>\n",
       "      <th>Time</th>\n",
       "      <th>HomeTeam</th>\n",
       "      <th>AwayTeam</th>\n",
       "      <th>FullTimeHomeTeamGoals</th>\n",
       "      <th>FullTimeAwayTeamGoals</th>\n",
       "      <th>FullTimeResult</th>\n",
       "      <th>...</th>\n",
       "      <th>AwayTeamFouls</th>\n",
       "      <th>HomeTeamYellowCards</th>\n",
       "      <th>AwayTeamYellowCards</th>\n",
       "      <th>HomeTeamRedCards</th>\n",
       "      <th>AwayTeamRedCards</th>\n",
       "      <th>HomeTeamPoints</th>\n",
       "      <th>AwayTeamPoints</th>\n",
       "      <th>year</th>\n",
       "      <th>month</th>\n",
       "      <th>day</th>\n",
       "    </tr>\n",
       "  </thead>\n",
       "  <tbody>\n",
       "    <tr>\n",
       "      <th>0</th>\n",
       "      <td>1993-1994_Arsenal_Coventry</td>\n",
       "      <td>1993-1994</td>\n",
       "      <td>1</td>\n",
       "      <td>1993-08-14</td>\n",
       "      <td>NaN</td>\n",
       "      <td>Arsenal</td>\n",
       "      <td>Coventry</td>\n",
       "      <td>0</td>\n",
       "      <td>3</td>\n",
       "      <td>A</td>\n",
       "      <td>...</td>\n",
       "      <td>NaN</td>\n",
       "      <td>NaN</td>\n",
       "      <td>NaN</td>\n",
       "      <td>NaN</td>\n",
       "      <td>NaN</td>\n",
       "      <td>0</td>\n",
       "      <td>3</td>\n",
       "      <td>1993</td>\n",
       "      <td>8</td>\n",
       "      <td>14</td>\n",
       "    </tr>\n",
       "  </tbody>\n",
       "</table>\n",
       "<p>1 rows × 31 columns</p>\n",
       "</div>"
      ],
      "text/plain": [
       "                      MatchID     Season  MatchWeek       Date Time HomeTeam  \\\n",
       "0  1993-1994_Arsenal_Coventry  1993-1994          1 1993-08-14  NaN  Arsenal   \n",
       "\n",
       "   AwayTeam  FullTimeHomeTeamGoals  FullTimeAwayTeamGoals FullTimeResult  ...  \\\n",
       "0  Coventry                      0                      3              A  ...   \n",
       "\n",
       "   AwayTeamFouls  HomeTeamYellowCards AwayTeamYellowCards HomeTeamRedCards  \\\n",
       "0            NaN                  NaN                 NaN              NaN   \n",
       "\n",
       "   AwayTeamRedCards  HomeTeamPoints  AwayTeamPoints  year  month  day  \n",
       "0               NaN               0               3  1993      8   14  \n",
       "\n",
       "[1 rows x 31 columns]"
      ]
     },
     "execution_count": 42,
     "metadata": {},
     "output_type": "execute_result"
    }
   ],
   "source": [
    "prem2 = prem1.drop(columns=odds_columns)\n",
    "prem2.head(1)"
   ]
  },
  {
   "cell_type": "code",
   "execution_count": 44,
   "id": "3f66d6bb",
   "metadata": {},
   "outputs": [],
   "source": [
    "prem2.to_csv('cleanedprem.csv', index=False)"
   ]
  }
 ],
 "metadata": {
  "kernelspec": {
   "display_name": "Python 3",
   "language": "python",
   "name": "python3"
  },
  "language_info": {
   "codemirror_mode": {
    "name": "ipython",
    "version": 3
   },
   "file_extension": ".py",
   "mimetype": "text/x-python",
   "name": "python",
   "nbconvert_exporter": "python",
   "pygments_lexer": "ipython3",
   "version": "3.11.1"
  }
 },
 "nbformat": 4,
 "nbformat_minor": 5
}
